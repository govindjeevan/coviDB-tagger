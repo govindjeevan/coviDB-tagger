{
 "cells": [
  {
   "cell_type": "code",
   "execution_count": 1,
   "id": "charitable-monkey",
   "metadata": {},
   "outputs": [],
   "source": [
    "import numpy as np\n",
    "import pandas as pd\n",
    "import matplotlib.pyplot as plt\n",
    "import os\n",
    "from PIL import Image"
   ]
  },
  {
   "cell_type": "code",
   "execution_count": 2,
   "id": "spoken-final",
   "metadata": {},
   "outputs": [
    {
     "name": "stderr",
     "output_type": "stream",
     "text": [
      "/opt/conda/lib/python3.8/site-packages/pandas/core/indexing.py:1783: SettingWithCopyWarning: \n",
      "A value is trying to be set on a copy of a slice from a DataFrame.\n",
      "Try using .loc[row_indexer,col_indexer] = value instead\n",
      "\n",
      "See the caveats in the documentation: https://pandas.pydata.org/pandas-docs/stable/user_guide/indexing.html#returning-a-view-versus-a-copy\n",
      "  self.obj[item_labels[indexer[info_axis]]] = value\n",
      "/opt/conda/lib/python3.8/site-packages/pandas/core/frame.py:4162: SettingWithCopyWarning: \n",
      "A value is trying to be set on a copy of a slice from a DataFrame\n",
      "\n",
      "See the caveats in the documentation: https://pandas.pydata.org/pandas-docs/stable/user_guide/indexing.html#returning-a-view-versus-a-copy\n",
      "  return super().drop(\n"
     ]
    }
   ],
   "source": [
    "article_tags = pd.read_csv(\"articles_tags.csv\")\n",
    "article_text = pd.read_csv(\"../resources/articles_text.csv\")\n",
    "article_tags= article_tags.set_index(\"Resource URL\")\n",
    "article_text = article_text.set_index(\"Resource URL\")\n",
    "article_text = article_text[~article_text.index.duplicated(keep='first')]\n",
    "\n",
    "for i in article_text.index:\n",
    "    article_text.loc[i, \"tech_tag\"] =  article_tags.loc[i][\"Technical (Y/N)\"][0]\n",
    "    \n",
    "data = (article_text[(article_text[\"tech_tag\"]==\"Y\") | (article_text[\"tech_tag\"]==\"N\")])\n",
    "data_src = data\n",
    "data_src = data_src[[\"Resource Title\", \"text\", \"tech_tag\"]]\n",
    "data_src.loc[:, \"text\"] =  data_src[\"Resource Title\"] + \" \" +data_src[\"text\"]\n",
    "data_src.loc[:, \"tech_tag\"] = data_src[\"tech_tag\"].map({\"N\": 0, \"Y\":1})\n",
    "data_src.drop(\"Resource Title\", axis=1, inplace=True)\n",
    "data_src = data_src.dropna().reset_index(drop=True)\n",
    "data=data_src"
   ]
  },
  {
   "cell_type": "code",
   "execution_count": 2,
   "id": "departmental-patent",
   "metadata": {},
   "outputs": [
    {
     "name": "stderr",
     "output_type": "stream",
     "text": [
      "/opt/conda/lib/python3.8/site-packages/pandas/core/indexing.py:1783: SettingWithCopyWarning: \n",
      "A value is trying to be set on a copy of a slice from a DataFrame.\n",
      "Try using .loc[row_indexer,col_indexer] = value instead\n",
      "\n",
      "See the caveats in the documentation: https://pandas.pydata.org/pandas-docs/stable/user_guide/indexing.html#returning-a-view-versus-a-copy\n",
      "  self.obj[item_labels[indexer[info_axis]]] = value\n",
      "/opt/conda/lib/python3.8/site-packages/pandas/core/frame.py:4162: SettingWithCopyWarning: \n",
      "A value is trying to be set on a copy of a slice from a DataFrame\n",
      "\n",
      "See the caveats in the documentation: https://pandas.pydata.org/pandas-docs/stable/user_guide/indexing.html#returning-a-view-versus-a-copy\n",
      "  return super().drop(\n"
     ]
    }
   ],
   "source": [
    "# NN PRED BASED\n",
    "\n",
    "article_tags = pd.read_csv(\"nn_pred.csv\")\n",
    "article_tags = article_tags.set_index(\"Resource URL\")\n",
    "\n",
    "data = (article_tags[(article_tags[\"NN_Pred\"]==\"Y\") | (article_tags[\"NN_Pred\"]==\"N\")])\n",
    "data_src = data\n",
    "data_src = data_src[[\"Resource Title\", \"text\", \"NN_Pred\"]]\n",
    "data_src.loc[:, \"text\"] =  data_src[\"Resource Title\"] + \" \" +data_src[\"text\"]\n",
    "data_src.loc[:, \"NN_Pred\"] = data_src[\"NN_Pred\"].map({\"N\": 0, \"Y\":1})\n",
    "data_src.drop(\"Resource Title\", axis=1, inplace=True)\n",
    "data_src = data_src.dropna().reset_index(drop=True)\n",
    "data=data_src\n",
    "data[\"tech_tag\"] = data[\"NN_Pred\"]"
   ]
  },
  {
   "cell_type": "code",
   "execution_count": null,
   "id": "reflected-position",
   "metadata": {},
   "outputs": [],
   "source": []
  },
  {
   "cell_type": "code",
   "execution_count": 3,
   "id": "english-chapel",
   "metadata": {},
   "outputs": [],
   "source": [
    "import tensorflow as tf\n",
    "dataset = tf.data.Dataset.from_tensor_slices((data.text, data.tech_tag))\n",
    "VALIDATION_SIZE=250\n",
    "BUFFER_SIZE = 10000\n",
    "BATCH_SIZE = 64\n",
    "\n",
    "train_dataset  = dataset.skip(VALIDATION_SIZE).shuffle(BUFFER_SIZE).batch(BATCH_SIZE).prefetch(tf.data.AUTOTUNE)\n",
    "test_dataset  = dataset.take(VALIDATION_SIZE).batch(BATCH_SIZE).prefetch(tf.data.AUTOTUNE)"
   ]
  },
  {
   "cell_type": "code",
   "execution_count": 4,
   "id": "serious-wilderness",
   "metadata": {},
   "outputs": [],
   "source": [
    "!pip install -q tf-models-official"
   ]
  },
  {
   "cell_type": "code",
   "execution_count": 5,
   "id": "bigger-lunch",
   "metadata": {},
   "outputs": [],
   "source": [
    "import tensorflow_hub as hub\n",
    "import tensorflow_text as text\n",
    "from official.nlp import optimization  # to create AdamW optimizer\n",
    "import matplotlib.pyplot as plt"
   ]
  },
  {
   "cell_type": "code",
   "execution_count": 6,
   "id": "amended-pocket",
   "metadata": {},
   "outputs": [],
   "source": [
    "map_name_to_handle = {\n",
    "    'bert_en_uncased_L-12_H-768_A-12':\n",
    "        'https://tfhub.dev/tensorflow/bert_en_uncased_L-12_H-768_A-12/3',\n",
    "    'bert_en_cased_L-12_H-768_A-12':\n",
    "        'https://tfhub.dev/tensorflow/bert_en_cased_L-12_H-768_A-12/3',\n",
    "    'bert_multi_cased_L-12_H-768_A-12':\n",
    "        'https://tfhub.dev/tensorflow/bert_multi_cased_L-12_H-768_A-12/3',\n",
    "    'small_bert/bert_en_uncased_L-2_H-128_A-2':\n",
    "        'https://tfhub.dev/tensorflow/small_bert/bert_en_uncased_L-2_H-128_A-2/1',\n",
    "    'small_bert/bert_en_uncased_L-2_H-256_A-4':\n",
    "        'https://tfhub.dev/tensorflow/small_bert/bert_en_uncased_L-2_H-256_A-4/1',\n",
    "    'small_bert/bert_en_uncased_L-2_H-512_A-8':\n",
    "        'https://tfhub.dev/tensorflow/small_bert/bert_en_uncased_L-2_H-512_A-8/1',\n",
    "    'small_bert/bert_en_uncased_L-2_H-768_A-12':\n",
    "        'https://tfhub.dev/tensorflow/small_bert/bert_en_uncased_L-2_H-768_A-12/1',\n",
    "    'small_bert/bert_en_uncased_L-4_H-128_A-2':\n",
    "        'https://tfhub.dev/tensorflow/small_bert/bert_en_uncased_L-4_H-128_A-2/1',\n",
    "    'small_bert/bert_en_uncased_L-4_H-256_A-4':\n",
    "        'https://tfhub.dev/tensorflow/small_bert/bert_en_uncased_L-4_H-256_A-4/1',\n",
    "    'small_bert/bert_en_uncased_L-4_H-512_A-8':\n",
    "        'https://tfhub.dev/tensorflow/small_bert/bert_en_uncased_L-4_H-512_A-8/1',\n",
    "    'small_bert/bert_en_uncased_L-4_H-768_A-12':\n",
    "        'https://tfhub.dev/tensorflow/small_bert/bert_en_uncased_L-4_H-768_A-12/1',\n",
    "    'small_bert/bert_en_uncased_L-6_H-128_A-2':\n",
    "        'https://tfhub.dev/tensorflow/small_bert/bert_en_uncased_L-6_H-128_A-2/1',\n",
    "    'small_bert/bert_en_uncased_L-6_H-256_A-4':\n",
    "        'https://tfhub.dev/tensorflow/small_bert/bert_en_uncased_L-6_H-256_A-4/1',\n",
    "    'small_bert/bert_en_uncased_L-6_H-512_A-8':\n",
    "        'https://tfhub.dev/tensorflow/small_bert/bert_en_uncased_L-6_H-512_A-8/1',\n",
    "    'small_bert/bert_en_uncased_L-6_H-768_A-12':\n",
    "        'https://tfhub.dev/tensorflow/small_bert/bert_en_uncased_L-6_H-768_A-12/1',\n",
    "    'small_bert/bert_en_uncased_L-8_H-128_A-2':\n",
    "        'https://tfhub.dev/tensorflow/small_bert/bert_en_uncased_L-8_H-128_A-2/1',\n",
    "    'small_bert/bert_en_uncased_L-8_H-256_A-4':\n",
    "        'https://tfhub.dev/tensorflow/small_bert/bert_en_uncased_L-8_H-256_A-4/1',\n",
    "    'small_bert/bert_en_uncased_L-8_H-512_A-8':\n",
    "        'https://tfhub.dev/tensorflow/small_bert/bert_en_uncased_L-8_H-512_A-8/1',\n",
    "    'small_bert/bert_en_uncased_L-8_H-768_A-12':\n",
    "        'https://tfhub.dev/tensorflow/small_bert/bert_en_uncased_L-8_H-768_A-12/1',\n",
    "    'small_bert/bert_en_uncased_L-10_H-128_A-2':\n",
    "        'https://tfhub.dev/tensorflow/small_bert/bert_en_uncased_L-10_H-128_A-2/1',\n",
    "    'small_bert/bert_en_uncased_L-10_H-256_A-4':\n",
    "        'https://tfhub.dev/tensorflow/small_bert/bert_en_uncased_L-10_H-256_A-4/1',\n",
    "    'small_bert/bert_en_uncased_L-10_H-512_A-8':\n",
    "        'https://tfhub.dev/tensorflow/small_bert/bert_en_uncased_L-10_H-512_A-8/1',\n",
    "    'small_bert/bert_en_uncased_L-10_H-768_A-12':\n",
    "        'https://tfhub.dev/tensorflow/small_bert/bert_en_uncased_L-10_H-768_A-12/1',\n",
    "    'small_bert/bert_en_uncased_L-12_H-128_A-2':\n",
    "        'https://tfhub.dev/tensorflow/small_bert/bert_en_uncased_L-12_H-128_A-2/1',\n",
    "    'small_bert/bert_en_uncased_L-12_H-256_A-4':\n",
    "        'https://tfhub.dev/tensorflow/small_bert/bert_en_uncased_L-12_H-256_A-4/1',\n",
    "    'small_bert/bert_en_uncased_L-12_H-512_A-8':\n",
    "        'https://tfhub.dev/tensorflow/small_bert/bert_en_uncased_L-12_H-512_A-8/1',\n",
    "    'small_bert/bert_en_uncased_L-12_H-768_A-12':\n",
    "        'https://tfhub.dev/tensorflow/small_bert/bert_en_uncased_L-12_H-768_A-12/1',\n",
    "    'albert_en_base':\n",
    "        'https://tfhub.dev/tensorflow/albert_en_base/2',\n",
    "    'electra_small':\n",
    "        'https://tfhub.dev/google/electra_small/2',\n",
    "    'electra_base':\n",
    "        'https://tfhub.dev/google/electra_base/2',\n",
    "    'experts_pubmed':\n",
    "        'https://tfhub.dev/google/experts/bert/pubmed/2',\n",
    "    'experts_wiki_books':\n",
    "        'https://tfhub.dev/google/experts/bert/wiki_books/2',\n",
    "    'talking-heads_base':\n",
    "        'https://tfhub.dev/tensorflow/talkheads_ggelu_bert_en_base/1',\n",
    "}\n",
    "\n",
    "map_model_to_preprocess = {\n",
    "    'bert_en_uncased_L-12_H-768_A-12':\n",
    "        'https://tfhub.dev/tensorflow/bert_en_uncased_preprocess/3',\n",
    "    'bert_en_cased_L-12_H-768_A-12':\n",
    "        'https://tfhub.dev/tensorflow/bert_en_cased_preprocess/3',\n",
    "    'small_bert/bert_en_uncased_L-2_H-128_A-2':\n",
    "        'https://tfhub.dev/tensorflow/bert_en_uncased_preprocess/3',\n",
    "    'small_bert/bert_en_uncased_L-2_H-256_A-4':\n",
    "        'https://tfhub.dev/tensorflow/bert_en_uncased_preprocess/3',\n",
    "    'small_bert/bert_en_uncased_L-2_H-512_A-8':\n",
    "        'https://tfhub.dev/tensorflow/bert_en_uncased_preprocess/3',\n",
    "    'small_bert/bert_en_uncased_L-2_H-768_A-12':\n",
    "        'https://tfhub.dev/tensorflow/bert_en_uncased_preprocess/3',\n",
    "    'small_bert/bert_en_uncased_L-4_H-128_A-2':\n",
    "        'https://tfhub.dev/tensorflow/bert_en_uncased_preprocess/3',\n",
    "    'small_bert/bert_en_uncased_L-4_H-256_A-4':\n",
    "        'https://tfhub.dev/tensorflow/bert_en_uncased_preprocess/3',\n",
    "    'small_bert/bert_en_uncased_L-4_H-512_A-8':\n",
    "        'https://tfhub.dev/tensorflow/bert_en_uncased_preprocess/3',\n",
    "    'small_bert/bert_en_uncased_L-4_H-768_A-12':\n",
    "        'https://tfhub.dev/tensorflow/bert_en_uncased_preprocess/3',\n",
    "    'small_bert/bert_en_uncased_L-6_H-128_A-2':\n",
    "        'https://tfhub.dev/tensorflow/bert_en_uncased_preprocess/3',\n",
    "    'small_bert/bert_en_uncased_L-6_H-256_A-4':\n",
    "        'https://tfhub.dev/tensorflow/bert_en_uncased_preprocess/3',\n",
    "    'small_bert/bert_en_uncased_L-6_H-512_A-8':\n",
    "        'https://tfhub.dev/tensorflow/bert_en_uncased_preprocess/3',\n",
    "    'small_bert/bert_en_uncased_L-6_H-768_A-12':\n",
    "        'https://tfhub.dev/tensorflow/bert_en_uncased_preprocess/3',\n",
    "    'small_bert/bert_en_uncased_L-8_H-128_A-2':\n",
    "        'https://tfhub.dev/tensorflow/bert_en_uncased_preprocess/3',\n",
    "    'small_bert/bert_en_uncased_L-8_H-256_A-4':\n",
    "        'https://tfhub.dev/tensorflow/bert_en_uncased_preprocess/3',\n",
    "    'small_bert/bert_en_uncased_L-8_H-512_A-8':\n",
    "        'https://tfhub.dev/tensorflow/bert_en_uncased_preprocess/3',\n",
    "    'small_bert/bert_en_uncased_L-8_H-768_A-12':\n",
    "        'https://tfhub.dev/tensorflow/bert_en_uncased_preprocess/3',\n",
    "    'small_bert/bert_en_uncased_L-10_H-128_A-2':\n",
    "        'https://tfhub.dev/tensorflow/bert_en_uncased_preprocess/3',\n",
    "    'small_bert/bert_en_uncased_L-10_H-256_A-4':\n",
    "        'https://tfhub.dev/tensorflow/bert_en_uncased_preprocess/3',\n",
    "    'small_bert/bert_en_uncased_L-10_H-512_A-8':\n",
    "        'https://tfhub.dev/tensorflow/bert_en_uncased_preprocess/3',\n",
    "    'small_bert/bert_en_uncased_L-10_H-768_A-12':\n",
    "        'https://tfhub.dev/tensorflow/bert_en_uncased_preprocess/3',\n",
    "    'small_bert/bert_en_uncased_L-12_H-128_A-2':\n",
    "        'https://tfhub.dev/tensorflow/bert_en_uncased_preprocess/3',\n",
    "    'small_bert/bert_en_uncased_L-12_H-256_A-4':\n",
    "        'https://tfhub.dev/tensorflow/bert_en_uncased_preprocess/3',\n",
    "    'small_bert/bert_en_uncased_L-12_H-512_A-8':\n",
    "        'https://tfhub.dev/tensorflow/bert_en_uncased_preprocess/3',\n",
    "    'small_bert/bert_en_uncased_L-12_H-768_A-12':\n",
    "        'https://tfhub.dev/tensorflow/bert_en_uncased_preprocess/3',\n",
    "    'bert_multi_cased_L-12_H-768_A-12':\n",
    "        'https://tfhub.dev/tensorflow/bert_multi_cased_preprocess/3',\n",
    "    'albert_en_base':\n",
    "        'https://tfhub.dev/tensorflow/albert_en_preprocess/3',\n",
    "    'electra_small':\n",
    "        'https://tfhub.dev/tensorflow/bert_en_uncased_preprocess/3',\n",
    "    'electra_base':\n",
    "        'https://tfhub.dev/tensorflow/bert_en_uncased_preprocess/3',\n",
    "    'experts_pubmed':\n",
    "        'https://tfhub.dev/tensorflow/bert_en_uncased_preprocess/3',\n",
    "    'experts_wiki_books':\n",
    "        'https://tfhub.dev/tensorflow/bert_en_uncased_preprocess/3',\n",
    "    'talking-heads_base':\n",
    "        'https://tfhub.dev/tensorflow/bert_en_uncased_preprocess/3',\n",
    "}\n"
   ]
  },
  {
   "cell_type": "code",
   "execution_count": 7,
   "id": "moderate-forward",
   "metadata": {},
   "outputs": [],
   "source": [
    "bert_model_name = 'small_bert/bert_en_uncased_L-4_H-128_A-2' \n",
    "\n",
    "tfhub_handle_encoder = map_name_to_handle[bert_model_name]\n",
    "tfhub_handle_preprocess = map_model_to_preprocess[bert_model_name]\n",
    "\n",
    "bert_preprocess_model = hub.KerasLayer(tfhub_handle_preprocess)"
   ]
  },
  {
   "cell_type": "code",
   "execution_count": 8,
   "id": "proper-practitioner",
   "metadata": {},
   "outputs": [],
   "source": [
    "def build_classifier_model():\n",
    "    text_input = tf.keras.layers.Input(shape=(), dtype=tf.string, name='text')\n",
    "    preprocessing_layer = hub.KerasLayer(tfhub_handle_preprocess, name='preprocessing')\n",
    "    encoder_inputs = preprocessing_layer(text_input)\n",
    "    encoder = hub.KerasLayer(tfhub_handle_encoder, trainable=True, name='BERT_encoder')\n",
    "    outputs = encoder(encoder_inputs)\n",
    "    net = outputs['pooled_output']\n",
    "    net = tf.keras.layers.Dropout(0.1)(net)\n",
    "    net = tf.keras.layers.Dense(2, activation=None, name='classifier')(net)\n",
    "    return tf.keras.Model(text_input, net)"
   ]
  },
  {
   "cell_type": "code",
   "execution_count": 9,
   "id": "billion-macintosh",
   "metadata": {},
   "outputs": [],
   "source": [
    "classifier_model = build_classifier_model()"
   ]
  },
  {
   "cell_type": "code",
   "execution_count": 10,
   "id": "palestinian-apartment",
   "metadata": {},
   "outputs": [],
   "source": [
    "loss = tf.keras.losses.BinaryCrossentropy(from_logits=True)\n",
    "metrics = tf.metrics.BinaryAccuracy()"
   ]
  },
  {
   "cell_type": "code",
   "execution_count": 11,
   "id": "photographic-polymer",
   "metadata": {},
   "outputs": [],
   "source": [
    "epochs = 5\n",
    "steps_per_epoch = tf.data.experimental.cardinality(train_dataset).numpy()\n",
    "num_train_steps = steps_per_epoch * epochs\n",
    "num_warmup_steps = int(0.1*num_train_steps)\n",
    "\n",
    "init_lr = 3e-5\n",
    "optimizer = optimization.create_optimizer(init_lr=init_lr,\n",
    "                                          num_train_steps=num_train_steps,\n",
    "                                          num_warmup_steps=num_warmup_steps,\n",
    "                                          optimizer_type='adamw')"
   ]
  },
  {
   "cell_type": "code",
   "execution_count": 12,
   "id": "special-setup",
   "metadata": {},
   "outputs": [],
   "source": [
    "classifier_model.compile(\n",
    "    optimizer=optimizer,\n",
    "    loss=tf.keras.losses.SparseCategoricalCrossentropy(from_logits=True),\n",
    "    metrics=['accuracy'])"
   ]
  },
  {
   "cell_type": "code",
   "execution_count": 13,
   "id": "acquired-titanium",
   "metadata": {},
   "outputs": [
    {
     "name": "stdout",
     "output_type": "stream",
     "text": [
      "Training model with https://tfhub.dev/tensorflow/small_bert/bert_en_uncased_L-4_H-128_A-2/1\n",
      "Epoch 1/5\n",
      "12/12 [==============================] - 15s 694ms/step - loss: 0.6893 - accuracy: 0.6213 - val_loss: 0.7393 - val_accuracy: 0.5720\n",
      "Epoch 2/5\n",
      "12/12 [==============================] - 8s 674ms/step - loss: 0.5528 - accuracy: 0.7347 - val_loss: 0.7285 - val_accuracy: 0.5600\n",
      "Epoch 3/5\n",
      "12/12 [==============================] - 8s 654ms/step - loss: 0.4712 - accuracy: 0.7960 - val_loss: 0.6902 - val_accuracy: 0.6320\n",
      "Epoch 4/5\n",
      "12/12 [==============================] - 8s 662ms/step - loss: 0.4379 - accuracy: 0.8213 - val_loss: 0.6703 - val_accuracy: 0.6520\n",
      "Epoch 5/5\n",
      "12/12 [==============================] - 8s 651ms/step - loss: 0.4080 - accuracy: 0.8480 - val_loss: 0.6693 - val_accuracy: 0.6440\n"
     ]
    }
   ],
   "source": [
    "print(f'Training model with {tfhub_handle_encoder}')\n",
    "history = classifier_model.fit(x=train_dataset,\n",
    "                               validation_data=test_dataset,\n",
    "                               epochs=epochs)"
   ]
  },
  {
   "cell_type": "code",
   "execution_count": 14,
   "id": "certain-faith",
   "metadata": {},
   "outputs": [
    {
     "name": "stdout",
     "output_type": "stream",
     "text": [
      "Training model with https://tfhub.dev/tensorflow/small_bert/bert_en_uncased_L-4_H-128_A-2/1\n",
      "Epoch 1/10\n",
      "12/12 [==============================] - 8s 648ms/step - loss: 0.4042 - accuracy: 0.8520 - val_loss: 0.6693 - val_accuracy: 0.6440\n",
      "Epoch 2/10\n",
      "12/12 [==============================] - 8s 661ms/step - loss: 0.4135 - accuracy: 0.8413 - val_loss: 0.6693 - val_accuracy: 0.6440\n",
      "Epoch 3/10\n",
      "12/12 [==============================] - 8s 669ms/step - loss: 0.4138 - accuracy: 0.8600 - val_loss: 0.6693 - val_accuracy: 0.6440\n",
      "Epoch 4/10\n",
      "12/12 [==============================] - 8s 674ms/step - loss: 0.4091 - accuracy: 0.8547 - val_loss: 0.6693 - val_accuracy: 0.6440\n",
      "Epoch 5/10\n",
      "12/12 [==============================] - 8s 691ms/step - loss: 0.4122 - accuracy: 0.8280 - val_loss: 0.6693 - val_accuracy: 0.6440\n",
      "Epoch 6/10\n",
      "12/12 [==============================] - 8s 660ms/step - loss: 0.3982 - accuracy: 0.8600 - val_loss: 0.6693 - val_accuracy: 0.6440\n",
      "Epoch 7/10\n",
      "12/12 [==============================] - 8s 664ms/step - loss: 0.4111 - accuracy: 0.8560 - val_loss: 0.6693 - val_accuracy: 0.6440\n",
      "Epoch 8/10\n",
      "12/12 [==============================] - 8s 651ms/step - loss: 0.4118 - accuracy: 0.8427 - val_loss: 0.6693 - val_accuracy: 0.6440\n",
      "Epoch 9/10\n",
      "12/12 [==============================] - 8s 672ms/step - loss: 0.4076 - accuracy: 0.8533 - val_loss: 0.6693 - val_accuracy: 0.6440\n",
      "Epoch 10/10\n",
      "12/12 [==============================] - 8s 664ms/step - loss: 0.4317 - accuracy: 0.8360 - val_loss: 0.6693 - val_accuracy: 0.6440\n"
     ]
    }
   ],
   "source": [
    "print(f'Training model with {tfhub_handle_encoder}')\n",
    "history = classifier_model.fit(x=train_dataset,\n",
    "                               validation_data=test_dataset,\n",
    "                               epochs=10)"
   ]
  },
  {
   "cell_type": "code",
   "execution_count": 15,
   "id": "scenic-conversation",
   "metadata": {},
   "outputs": [
    {
     "name": "stdout",
     "output_type": "stream",
     "text": [
      "4/4 [==============================] - 2s 507ms/step - loss: 0.6693 - accuracy: 0.6440\n",
      "Loss: 0.6693075895309448\n",
      "Accuracy: 0.6439999938011169\n"
     ]
    }
   ],
   "source": [
    "loss, accuracy = classifier_model.evaluate(test_dataset)\n",
    "\n",
    "print(f'Loss: {loss}')\n",
    "print(f'Accuracy: {accuracy}')"
   ]
  },
  {
   "cell_type": "code",
   "execution_count": 27,
   "id": "concrete-amount",
   "metadata": {},
   "outputs": [
    {
     "name": "stdout",
     "output_type": "stream",
     "text": [
      "dict_keys(['loss', 'accuracy', 'val_loss', 'val_accuracy'])\n"
     ]
    },
    {
     "data": {
      "text/plain": [
       "<matplotlib.legend.Legend at 0x7f7a345d4670>"
      ]
     },
     "execution_count": 27,
     "metadata": {},
     "output_type": "execute_result"
    },
    {
     "data": {
      "image/png": "[encoded data removed]",
      "text/plain": [
       "<Figure size 720x432 with 2 Axes>"
      ]
     },
     "metadata": {
      "needs_background": "light"
     },
     "output_type": "display_data"
    }
   ],
   "source": [
    "history_dict = history.history\n",
    "print(history_dict.keys())\n",
    "\n",
    "acc = history_dict['accuracy']\n",
    "val_acc = history_dict['val_accuracy']\n",
    "loss = history_dict['loss']\n",
    "val_loss = history_dict['val_loss']\n",
    "\n",
    "epochs = range(1, len(acc) + 1)\n",
    "fig = plt.figure(figsize=(10, 6))\n",
    "fig.tight_layout()\n",
    "\n",
    "plt.subplot(2, 1, 1)\n",
    "# \"bo\" is for \"blue dot\"\n",
    "plt.plot(epochs, loss, 'r', label='Training loss')\n",
    "# b is for \"solid blue line\"\n",
    "plt.plot(epochs, val_loss, 'b', label='Validation loss')\n",
    "plt.title('Training and validation loss')\n",
    "# plt.xlabel('Epochs')\n",
    "plt.ylabel('Loss')\n",
    "plt.legend()\n",
    "\n",
    "plt.subplot(2, 1, 2)\n",
    "plt.plot(epochs, acc, 'r', label='Training acc')\n",
    "plt.plot(epochs, val_acc, 'b', label='Validation acc')\n",
    "plt.title('Training and validation accuracy')\n",
    "plt.xlabel('Epochs')\n",
    "plt.ylabel('Accuracy')\n",
    "plt.legend(loc='lower right')"
   ]
  },
  {
   "cell_type": "code",
   "execution_count": 35,
   "id": "baking-address",
   "metadata": {},
   "outputs": [],
   "source": [
    "article_text = article_text[[\"text\", \"tech_tag\"]]"
   ]
  },
  {
   "cell_type": "code",
   "execution_count": 20,
   "id": "tribal-accounting",
   "metadata": {},
   "outputs": [],
   "source": [
    "hash_map = {'Y': 1, 'N': 0}"
   ]
  },
  {
   "cell_type": "code",
   "execution_count": 18,
   "id": "still-concern",
   "metadata": {},
   "outputs": [],
   "source": [
    "article_text =article_tags"
   ]
  },
  {
   "cell_type": "code",
   "execution_count": 21,
   "id": "alternate-brake",
   "metadata": {},
   "outputs": [
    {
     "name": "stdout",
     "output_type": "stream",
     "text": [
      "https://www.nejm.org/doi/10.1056/NEJMc2104974 Predicted:  0  Actual:  1\n",
      "https://jamanetwork.com/journals/jama/pages/coronavirus-alert Predicted:  0  Actual:  1\n",
      "https://www.nejm.org/ Predicted:  0  Actual:  1\n",
      "https://www.nejm.org/doi/full/10.1056/NEJMc2101951 Predicted:  0  Actual:  1\n",
      "https://jamanetwork.com/journals/jama/fullarticle/2779850 Predicted:  0  Actual:  1\n",
      "https://jamanetwork.com/ Predicted:  0  Actual:  1\n",
      "https://jamanetwork.com/collections/5950/vaccination Predicted:  0  Actual:  1\n",
      "https://jamanetwork.com/journals/jama/fullarticle/2779817 Predicted:  0  Actual:  1\n",
      "https://jamanetwork.com/learning/audio-player/18608245 Predicted:  0  Actual:  1\n",
      "https://www.nejm.org/doi/full/10.1056/NEJMe2103931 Predicted:  1  Actual:  0\n",
      "https://jamanetwork.com/journals/jamaneurology/fullarticle/2779916 Predicted:  0  Actual:  1\n",
      "https://www.nejm.org/medical-articles/perspective Predicted:  0  Actual:  1\n",
      "https://www.nejm.org/pulmonary?topic=12&q=*&page=5 Predicted:  0  Actual:  1\n",
      "https://jamanetwork.com/journals/jamapsychiatry/issue Predicted:  0  Actual:  1\n",
      "https://www.nature.com/articles/d41586-021-01277-4 Predicted:  0  Actual:  1\n",
      "https://www.nature.com/articles/s41591-021-01353-2 Predicted:  0  Actual:  1\n",
      "https://www.nature.com/articles/s41598-021-89419-6 Predicted:  0  Actual:  1\n",
      "https://www.nature.com/articles/s41587-021-00912-9 Predicted:  0  Actual:  1\n",
      "https://www.nature.com/articles/s41574-021-00509-x Predicted:  1  Actual:  0\n",
      "https://www.nature.com/articles/s41587-021-00920-9 Predicted:  1  Actual:  0\n",
      "https://www.nature.com/articles/s41598-021-89515-7 Predicted:  0  Actual:  1\n",
      "https://www.nature.com/articles/s41598-021-89517-5 Predicted:  0  Actual:  1\n",
      "https://www.nature.com/articles/s41556-021-00685-y Predicted:  1  Actual:  0\n",
      "https://www.nature.com/articles/s41423-021-00685-w Predicted:  1  Actual:  0\n",
      "https://www.nature.com/articles/s41525-021-00194-9?utm_source=feedburner&utm_medium=feed&utm_campaign=Feed%3A+npjgenmed%2Frss%2Fcurrent+%28npj+Genomic+Medicine%29 Predicted:  1  Actual:  0\n",
      "https://www.nature.com/articles/s41541-021-00335-2 Predicted:  0  Actual:  1\n",
      "https://www.nature.com/articles/s41415-021-3048-2 Predicted:  1  Actual:  0\n",
      "https://www.nature.com/articles/s41467-021-22926-2 Predicted:  0  Actual:  1\n",
      "https://www.cdc.gov/vaccines/acip/recs/grade/covid-19-pfizer-biontech-etr-12-15-years.html Predicted:  1  Actual:  0\n",
      "https://emergency.cdc.gov/coca/calls/2021/callinfo_051421.asp Predicted:  1  Actual:  0\n",
      "https://vietnamese.cdc.gov/coronavirus/2019-ncov/daily-life-coping/participate-in-activities.html Predicted:  1  Actual:  0\n",
      "https://korean.cdc.gov/coronavirus/2019-ncov/daily-life-coping/participate-in-activities.html Predicted:  1  Actual:  0\n",
      "https://espanol.cdc.gov/coronavirus/2019-ncov/vaccines/safety/vsafe.html Predicted:  1  Actual:  0\n",
      "https://korean.cdc.gov/coronavirus/2019-ncov/prevent-getting-sick/how-covid-spreads.html Predicted:  1  Actual:  0\n",
      "https://chinese.cdc.gov/coronavirus/2019-ncov/daily-life-coping/participate-in-activities.html Predicted:  1  Actual:  0\n",
      "https://espanol.cdc.gov/coronavirus/2019-ncov/vaccines/your-vaccination.html Predicted:  1  Actual:  0\n",
      "https://www.cdc.gov/coronavirus/2019-ncov/need-extra-precautions/pregnant-people.html Predicted:  1  Actual:  0\n",
      "https://www.cdc.gov/coronavirus/2019-ncov/daily-life-coping/participate-in-activities.html Predicted:  1  Actual:  0\n",
      "https://espanol.cdc.gov/coronavirus/2019-ncov/vaccines/different-vaccines.html Predicted:  1  Actual:  0\n",
      "https://wwwnc.cdc.gov/eid/article/27/7/21-0425_article Predicted:  0  Actual:  1\n",
      "https://chinese.cdc.gov/coronavirus/2019-ncov/need-extra-precautions/pregnant-people.html Predicted:  1  Actual:  0\n",
      "https://espanol.cdc.gov/coronavirus/2019-ncov/vaccines/keythingstoknow.html Predicted:  1  Actual:  0\n",
      "https://korean.cdc.gov/coronavirus/2019-ncov/vaccines/faq.html Predicted:  1  Actual:  0\n",
      "https://espanol.cdc.gov/coronavirus/2019-ncov/vaccines/about-vaccines/index.html Predicted:  1  Actual:  0\n",
      "https://chinese.cdc.gov/coronavirus/2019-ncov/vaccines/How-Do-I-Get-a-COVID-19-Vaccine.html Predicted:  1  Actual:  0\n",
      "https://chinese.cdc.gov/coronavirus/2019-ncov/vaccines/facts.html Predicted:  1  Actual:  0\n",
      "https://korean.cdc.gov/coronavirus/2019-ncov/vaccines/different-vaccines/Pfizer-BioNTech.html Predicted:  1  Actual:  0\n",
      "https://chinese.cdc.gov/coronavirus/2019-ncov/vaccines/recommendations/adolescents.html Predicted:  1  Actual:  0\n",
      "https://korean.cdc.gov/coronavirus/2019-ncov/vaccines/keythingstoknow.html Predicted:  1  Actual:  0\n",
      "https://jamanetwork.com/journals/jamanetworkopen/fullarticle/2779869 Predicted:  0  Actual:  1\n",
      "https://jamanetwork.com/journals/jama/fullarticle/10.1001/jamaoncol.2021.1218 Predicted:  0  Actual:  1\n",
      "https://www.nejm.org/coronavirus Predicted:  1  Actual:  0\n",
      "https://korean.cdc.gov/coronavirus/2019-ncov/vaccines/recommendations/essentialworker.html Predicted:  1  Actual:  0\n",
      "https://korean.cdc.gov/coronavirus/2019-ncov/vaccines/recommendations-process.html Predicted:  1  Actual:  0\n",
      "https://chinese.cdc.gov/coronavirus/2019-ncov/vaccines/recommendations-process.html Predicted:  1  Actual:  0\n",
      "https://korean.cdc.gov/coronavirus/2019-ncov/vaccines/recommendations/specific-groups/teachers-childcare.html Predicted:  1  Actual:  0\n",
      "https://korean.cdc.gov/coronavirus/2019-ncov/testing/self-testing.html Predicted:  1  Actual:  0\n",
      "https://chinese.cdc.gov/coronavirus/2019-ncov/testing/self-testing.html Predicted:  1  Actual:  0\n",
      "https://korean.cdc.gov/coronavirus/2019-ncov/vaccines/different-vaccines.html Predicted:  1  Actual:  0\n",
      "https://espanol.cdc.gov/coronavirus/2019-ncov/daily-life-coping/participate-in-activities.html Predicted:  1  Actual:  0\n",
      "https://espanol.cdc.gov/coronavirus/2019-ncov/need-extra-precautions/people-with-disabilities.html Predicted:  1  Actual:  0\n",
      "https://www.cdc.gov/coronavirus/2019-ncov/vaccines/your-vaccination.html Predicted:  1  Actual:  0\n",
      "https://korean.cdc.gov/coronavirus/2019-ncov/cases-updates/special-populations/pregnancy-data-on-covid-19/what-cdc-is-doing.html Predicted:  1  Actual:  0\n",
      "https://chinese.cdc.gov/coronavirus/2019-ncov/vaccines/different-vaccines.html Predicted:  1  Actual:  0\n",
      "https://korean.cdc.gov/coronavirus/2019-ncov/vaccines/safety/vsafe.html Predicted:  1  Actual:  0\n",
      "https://korean.cdc.gov/coronavirus/2019-ncov/need-extra-precautions/people-with-medical-conditions.html Predicted:  1  Actual:  0\n",
      "https://espanol.cdc.gov/coronavirus/2019-ncov/need-extra-precautions/pregnant-people.html Predicted:  1  Actual:  0\n",
      "https://korean.cdc.gov/coronavirus/2019-ncov/vaccines/your-vaccination.html Predicted:  1  Actual:  0\n",
      "https://chinese.cdc.gov/coronavirus/2019-ncov/need-extra-precautions/people-with-medical-conditions.html Predicted:  1  Actual:  0\n",
      "https://chinese.cdc.gov/coronavirus/2019-ncov/cases-updates/special-populations/pregnancy-data-on-covid-19/what-cdc-is-doing.html Predicted:  1  Actual:  0\n",
      "https://chinese.cdc.gov/coronavirus/2019-ncov/vaccines/about-vaccines/index.html Predicted:  1  Actual:  0\n",
      "https://www.nature.com/articles/s41467-021-23559-1 Predicted:  1  Actual:  0\n",
      "https://korean.cdc.gov/coronavirus/2019-ncov/vaccines/recommendations/disabilities.html Predicted:  1  Actual:  0\n",
      "https://espanol.cdc.gov/coronavirus/2019-ncov/vaccines/recommendations/pregnancy.html Predicted:  1  Actual:  0\n",
      "https://korean.cdc.gov/coronavirus/2019-ncov/vaccines/recommendations/pregnancy.html Predicted:  1  Actual:  0\n",
      "https://korean.cdc.gov/coronavirus/2019-ncov/vaccines/distributing/demographics-vaccination-data.html Predicted:  1  Actual:  0\n",
      "https://chinese.cdc.gov/coronavirus/2019-ncov/vaccines/recommendations/specific-groups/teachers-childcare.html Predicted:  1  Actual:  0\n",
      "https://espanol.cdc.gov/coronavirus/2019-ncov/vaccines/recommendations/underlying-conditions.html Predicted:  1  Actual:  0\n",
      "https://www.cdc.gov/nchs/nvss/vsrr/covid19/index.htm Predicted:  1  Actual:  0\n",
      "https://korean.cdc.gov/coronavirus/2019-ncov/vaccines/distributing/about-vaccine-data.html Predicted:  1  Actual:  0\n",
      "https://espanol.cdc.gov/coronavirus/2019-ncov/vaccines/distributing/about-vaccine-data.html Predicted:  1  Actual:  0\n",
      "https://korean.cdc.gov/coronavirus/2019-ncov/vaccines/reporting-vaccinations.html Predicted:  1  Actual:  0\n",
      "https://chinese.cdc.gov/coronavirus/2019-ncov/vaccines/recommendations/pregnancy.html Predicted:  1  Actual:  0\n",
      "https://chinese.cdc.gov/coronavirus/2019-ncov/vaccines/distributing/about-vaccine-data.html Predicted:  1  Actual:  0\n",
      "https://espanol.cdc.gov/coronavirus/2019-ncov/testing/self-testing.html Predicted:  1  Actual:  0\n",
      "https://investors.modernatx.com/sec-filings/sec-filing/4/0001127602-21-016817/ Predicted:  1  Actual:  0\n",
      "https://espanol.cdc.gov/coronavirus/2019-ncov/vaccines/expect.html Predicted:  1  Actual:  0\n",
      "https://investors.modernatx.com/sec-filings/sec-filing/4/0001127602-21-016798/ Predicted:  1  Actual:  0\n",
      "https://jamanetwork.com/journals/jamainternalmedicine/fullarticle/2779741 Predicted:  0  Actual:  1\n",
      "https://jamanetwork.com/journals/jamanetworkopen/fullarticle/2779930 Predicted:  0  Actual:  1\n",
      "https://www.pfizer.com/science/vaccines/ready-for-life Predicted:  0  Actual:  1\n",
      "https://www.nature.com/articles/s41467-021-23074-3 Predicted:  0  Actual:  1\n",
      "https://www.nature.com/articles/s41398-021-01429-0 Predicted:  0  Actual:  1\n",
      "https://www.nature.com/collections/jddjfgiagb Predicted:  0  Actual:  1\n",
      "https://www.nature.com/articles/s41591-021-01363-0?utm_source=feedburner&utm_medium=feed&utm_campaign=Feed%3A+nm%2Frss%2Fcurrent+%28Nature+Medicine+-+Issue%29 Predicted:  0  Actual:  1\n",
      "https://jamanetwork.com/journals/jamaoncology/fullarticle/2780053 Predicted:  0  Actual:  1\n",
      "https://www.nejm.org/do/10.1056/NEJMdo006067/full/ Predicted:  1  Actual:  0\n",
      "https://www.nature.com/articles/s41598-021-89807-y Predicted:  0  Actual:  1\n",
      "https://jamanetwork.com/journals/jama/fullarticle/2780519 Predicted:  0  Actual:  1\n",
      "https://www.nature.com/articles/s41390-021-01590-8 Predicted:  1  Actual:  0\n",
      "https://www.nature.com/articles/s41598-021-90227-1 Predicted:  0  Actual:  1\n",
      "https://www.modernatx.com/moderna-highlights-advances-platform-science-and-innovative-vaccine-research-fourth-annual-science Predicted:  1  Actual:  0\n",
      "https://www.nature.com/articles/s41598-021-90411-3 Predicted:  0  Actual:  1\n",
      "https://www.nature.com/articles/s41433-021-01582-2 Predicted:  1  Actual:  0\n",
      "https://www.nature.com/articles/s41598-021-90873-5 Predicted:  0  Actual:  1\n",
      "https://www.nature.com/articles/s41598-021-90098-6 Predicted:  0  Actual:  1\n",
      "https://www.nature.com/articles/s41467-021-23440-1 Predicted:  0  Actual:  1\n",
      "https://www.nature.com/articles/d41586-021-01470-5 Predicted:  0  Actual:  1\n",
      "https://www.nature.com/articles/s41375-021-01302-5 Predicted:  0  Actual:  1\n",
      "https://www.nature.com/articles/s41435-021-00136-6 Predicted:  0  Actual:  1\n",
      "https://www.nature.com/articles/s41574-021-00516-y Predicted:  1  Actual:  0\n",
      "https://www.nejm.org/doi/full/10.1056/NEJMc2107920 Predicted:  0  Actual:  1\n",
      "https://jamanetwork.com/journals/jama/fullarticle/2780872 Predicted:  0  Actual:  1\n",
      "https://www.nature.com/articles/s41467-021-23761-1 Predicted:  0  Actual:  1\n",
      "https://www.modernatx.com/covid19vaccine-eua/recipients/es/faq Predicted:  1  Actual:  0\n",
      "https://www.nature.com/articles/s41556-021-00689-8 Predicted:  1  Actual:  0\n",
      "https://www.nature.com/articles/s41598-021-91470-2 Predicted:  0  Actual:  1\n",
      "https://www.jnj.com/our-company/simplifying-the-science-of-covid-19-how-adenovector-vaccines-work Predicted:  1  Actual:  0\n",
      "https://www.nature.com/articles/s41574-021-00521-1 Predicted:  1  Actual:  0\n",
      "https://www.nature.com/articles/s41591-021-01395-6 Predicted:  0  Actual:  1\n",
      "https://www.nature.com/articles/s41390-021-01585-5 Predicted:  0  Actual:  1\n",
      "https://www.modernatx.com/about-us/supplier-engagement Predicted:  1  Actual:  0\n",
      "https://www.nejm.org/doi/full/10.1056/NEJMe2107070 Predicted:  1  Actual:  0\n",
      "https://www.nejm.org/doi/full/10.1056/NEJMcibr2106054?query=recirc_inIssue_bottom_article Predicted:  0  Actual:  1\n",
      "https://www.nejm.org/doi/full/10.1056/NEJMe2110211?query=recirc_inIssue_bottom_article Predicted:  1  Actual:  0\n",
      "https://www.nejm.org/doi/full/10.1056/NEJMe2108276 Predicted:  1  Actual:  0\n",
      "https://www.nature.com/articles/s41467-021-23937-9 Predicted:  0  Actual:  1\n",
      "https://www.nature.com/articles/s41598-021-92293-x Predicted:  0  Actual:  1\n",
      "https://www.nejm.org/covid-vaccine/faq Predicted:  0  Actual:  1\n",
      "https://www.nature.com/articles/s41467-021-23989-x Predicted:  0  Actual:  1\n",
      "https://www.nature.com/articles/s41467-021-24115-7 Predicted:  0  Actual:  1\n",
      "https://www.bmj.com/content/373/bmj.n1543 Predicted:  1  Actual:  0\n",
      "https://www.bmj.com/content/373/bmj.n1105 Predicted:  0  Actual:  1\n",
      "https://www.nature.com/articles/s41591-021-01423-5 Predicted:  0  Actual:  1\n",
      "https://www.bmj.com/content/373/bmj.n1596.short?rss=1&utm_source=feedburner&utm_medium=feed&utm_campaign=Feed%3A+bmj%2Frecent+%28Latest+from+BMJ%29 Predicted:  1  Actual:  0\n",
      "https://www.bmj.com/content/373/bmj.n1577/rr Predicted:  1  Actual:  0\n",
      "https://www.bmj.com/content/373/bmj.n1467 Predicted:  0  Actual:  1\n",
      "https://www.nature.com/articles/s41598-021-92399-2 Predicted:  0  Actual:  1\n",
      "https://www.nature.com/articles/s41591-021-01355-0 Predicted:  0  Actual:  1\n",
      "https://www.nature.com/articles/s41598-021-87692-z Predicted:  0  Actual:  1\n",
      "https://www.technologyreview.com/2021/04/29/1024301/vaccines-covid-breakthrough-infections-immunity-cdc/ Predicted:  1  Actual:  0\n",
      "https://www.nejm.org/doi/full/10.1056/NEJMc2101280 Predicted:  0  Actual:  1\n",
      "https://www.nejm.org/doi/10.1056/NEJMc2036242 Predicted:  0  Actual:  1\n",
      "https://www.nejm.org/doi/full/10.1056/NEJMcibr2101205 Predicted:  0  Actual:  1\n",
      "https://www.nejm.org/doi/full/10.1056/NEJMe2103108 Predicted:  1  Actual:  0\n",
      "https://www.nejm.org/covid-vaccine Predicted:  0  Actual:  1\n",
      "https://www.nejm.org/doi/full/10.1056/NEJMe2104584 Predicted:  1  Actual:  0\n",
      "https://www.nejm.org/doi/full/10.1056/NEJMp2034438 Predicted:  1  Actual:  0\n",
      "https://www.nejm.org/doi/full/10.1056/NEJMclde2101987 Predicted:  0  Actual:  1\n",
      "https://www.nejm.org/doi/full/10.1056/NEJMe2034982 Predicted:  1  Actual:  0\n",
      "https://www.nejm.org/doi/full/10.1056/NEJMe2035678 Predicted:  1  Actual:  0\n",
      "https://www.nejm.org/doi/full/10.1056/NEJMp2034765 Predicted:  1  Actual:  0\n",
      "https://www.nejm.org/doi/full/10.1056/nejmoa2035389 Predicted:  0  Actual:  1\n",
      "https://www.nejm.org/doi/full/10.1056/NEJMpv2035709 Predicted:  1  Actual:  0\n",
      "https://yourlocalepidemiologist.substack.com/p/vaccine-table-update-may-18-2021 Predicted:  1  Actual:  0\n",
      "https://together.caltech.edu/updates/cases Predicted:  1  Actual:  0\n",
      "https://together.caltech.edu/updates Predicted:  1  Actual:  0\n",
      "https://www.bmj.com/content/373/bmj.n1442/rr Predicted:  1  Actual:  0\n",
      "https://www.bmj.com/content/373/bmj.n1038 Predicted:  0  Actual:  1\n",
      "https://www.bmj.com/content/373/bmj.n888 Predicted:  1  Actual:  0\n",
      "https://www.bmj.com/content/372/bmj.n810/rr-14 Predicted:  1  Actual:  0\n",
      "https://www.bmj.com/content/372/bmj.n829 Predicted:  1  Actual:  0\n",
      "https://www.bmj.com/content/372/bmj.n364 Predicted:  0  Actual:  1\n",
      "https://www.pfizer.com/news/hot-topics/the_facts_about_pfizer_and_biontech_s_covid_19_vaccine Predicted:  1  Actual:  0\n",
      "https://www.pfizer.com/science/coronavirus/vaccine/studies-address-new-formulations Predicted:  0  Actual:  1\n",
      "https://www.pfizer.com/science/find-a-trial/nct04816643 Predicted:  0  Actual:  1\n",
      "https://www.pfizer.com/science/coronavirus/vaccine/rapid-progress Predicted:  0  Actual:  1\n",
      "https://www.pfizer.com/science/coronavirus/partnerships Predicted:  0  Actual:  1\n",
      "https://www.pfizer.com/science/coronavirus/vaccine-efforts Predicted:  0  Actual:  1\n",
      "https://www.pfizer.com/science/coronavirus/updates Predicted:  0  Actual:  1\n",
      "https://www.pfizer.com/news/press-release/press-release-detail/vitro-studies-demonstrate-pfizer-and-biontech-covid-19 Predicted:  1  Actual:  0\n",
      "https://www.pfizer.com/news/press-release/press-release-detail/pfizer-and-biontech-puresults-study-showing-covid-19 Predicted:  1  Actual:  0\n",
      "https://www.pfizer.com/products/product-detail/pfizer-biontech-covid-19-vaccine Predicted:  0  Actual:  1\n",
      "https://www.pfizer.com/science/coronavirus/vaccine/manufacturing-and-distribution Predicted:  0  Actual:  1\n",
      "https://www.pfizer.com/news/press-release/press-release-detail/pfizer-and-biontech-announce-publication-results-landmark Predicted:  1  Actual:  0\n",
      "https://www.pfizer.com/news/hot-topics/covid_19_vaccine_u_s_distribution_fact_sheet Predicted:  1  Actual:  0\n",
      "https://www.pfizer.com/news/press-release/press-release-detail/pfizer-and-biontech-conclude-phase-3-study-covid-19-vaccine Predicted:  1  Actual:  0\n",
      "https://www.pfizer.com/science/find-a-trial/nct04368728-0 Predicted:  0  Actual:  1\n",
      "https://www.pfizer.com/news/press-release/press-release-detail/pfizer-and-biontech-announce-data-preclinical-studies-mrna Predicted:  1  Actual:  0\n",
      "https://www.pfizer.com/science/coronavirus/manufacturing-and-distribution/pledge Predicted:  0  Actual:  1\n",
      "https://www.pfizer.com/news/press-release/press-release-detail/pfizer-and-biontech-share-positive-early-data-lead-mrna Predicted:  1  Actual:  0\n",
      "https://www.pfizer.com/news/press-release/press-release-detail/pfizer-and-biontech-choose-lead-mrna-vaccine-candidate-0 Predicted:  1  Actual:  0\n",
      "https://www.pfizer.com/news/press-release/press-release-detail/pfizer-and-biontech-announce-early-positive-update-german Predicted:  1  Actual:  0\n",
      "https://www.pfizer.com/news/hot-topics/keeping_up_with_covid_19_insights_and_perspectives_from_mace_rothenberg_m_d Predicted:  1  Actual:  0\n",
      "https://www.pfizer.com/news/hot-topics/une_course_et_un_partenariat_in_dit_pour_mettre_au_point_un_vaccin_potentiel_contre_le_covid_19 Predicted:  1  Actual:  0\n",
      "https://www.nature.com/articles/d41586-021-01583-x Predicted:  1  Actual:  0\n",
      "https://www.modernatx.com/covid19vaccine-eua/recipients/safety Predicted:  1  Actual:  0\n",
      "https://www.modernatx.com/covid19vaccine-eua/recipients/es/moderna-vaccine Predicted:  1  Actual:  0\n",
      "https://www.pfizer.com/science/coronavirus/vaccine/about-our-landmark-trial Predicted:  0  Actual:  1\n",
      "https://www.pfizer.com/science/coronavirus Predicted:  0  Actual:  1\n",
      "https://www.bmj.com/content/373/bmj.n1489 Predicted:  1  Actual:  0\n",
      "https://www.who.int/southeastasia/outbreaks-and-emergencies/novel-coronavirus-2019/protective-measures Predicted:  1  Actual:  0\n",
      "https://www.who.int/southeastasia/outbreaks-and-emergencies/novel-coronavirus-2019/protective-measures/protect-ourselves Predicted:  1  Actual:  0\n",
      "https://www.nature.com/articles/s41598-021-92253-5 Predicted:  0  Actual:  1\n",
      "https://www.nature.com/articles/s41432-021-0172-4 Predicted:  0  Actual:  1\n",
      "https://www.nature.com/naturecareers/job/laboratory-manager-product-lead-dna-pipelines-covid19-surveillance-wellcome-trust-sanger-institute-742487 Predicted:  0  Actual:  1\n",
      "https://www.nejm.org/do/10.1056/NEJMdo005991/full/ Predicted:  1  Actual:  0\n",
      "https://www.bmj.com/content/373/bmj.n1178/rr-0 Predicted:  1  Actual:  0\n",
      "https://www.bmj.com/content/372/bmj.n376 Predicted:  0  Actual:  1\n",
      "https://www.bmj.com/content/372/bmj.n359 Predicted:  1  Actual:  0\n"
     ]
    }
   ],
   "source": [
    "for i in article_text.index:\n",
    "    text = article_text.loc[i].text\n",
    "    if article_text.loc[i].tech_tag not in hash_map.keys():\n",
    "        continue\n",
    "    target = hash_map[article_text.loc[i].tech_tag]\n",
    "    if type(text) != type(' '):\n",
    "        continue\n",
    "    bert_raw_result = classifier_model.predict(tf.constant([text]))\n",
    "    pred= tf.argmax(tf.sigmoid(bert_raw_result[0]))\n",
    "    if pred!=target:\n",
    "        print(i, \"Predicted: \",pred.numpy(), \" Actual: \", target)"
   ]
  },
  {
   "cell_type": "code",
   "execution_count": 62,
   "id": "incomplete-donna",
   "metadata": {},
   "outputs": [
    {
     "data": {
      "text/plain": [
       "array([[ 0.496458 , -0.2479827]], dtype=float32)"
      ]
     },
     "execution_count": 62,
     "metadata": {},
     "output_type": "execute_result"
    }
   ],
   "source": [
    "bert_raw_result"
   ]
  },
  {
   "cell_type": "code",
   "execution_count": 63,
   "id": "verbal-spokesman",
   "metadata": {},
   "outputs": [
    {
     "data": {
      "text/plain": [
       "<tf.Tensor: shape=(), dtype=int64, numpy=0>"
      ]
     },
     "execution_count": 63,
     "metadata": {},
     "output_type": "execute_result"
    }
   ],
   "source": [
    " tf.argmax(tf.sigmoid(bert_raw_result[0]))"
   ]
  },
  {
   "cell_type": "code",
   "execution_count": null,
   "id": "natural-deadline",
   "metadata": {},
   "outputs": [],
   "source": [
    "[article_text[0:1].text]"
   ]
  },
  {
   "cell_type": "code",
   "execution_count": null,
   "id": "departmental-contrary",
   "metadata": {},
   "outputs": [],
   "source": []
  }
 ],
 "metadata": {
  "kernelspec": {
   "display_name": "Python 3",
   "language": "python",
   "name": "python3"
  },
  "language_info": {
   "codemirror_mode": {
    "name": "ipython",
    "version": 3
   },
   "file_extension": ".py",
   "mimetype": "text/x-python",
   "name": "python",
   "nbconvert_exporter": "python",
   "pygments_lexer": "ipython3",
   "version": "3.8.5"
  }
 },
 "nbformat": 4,
 "nbformat_minor": 5
}
