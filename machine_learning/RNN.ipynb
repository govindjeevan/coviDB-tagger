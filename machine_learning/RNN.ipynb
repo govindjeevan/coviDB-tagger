{
 "cells": [
  {
   "cell_type": "code",
   "execution_count": 1,
   "id": "failing-tender",
   "metadata": {},
   "outputs": [],
   "source": [
    "import numpy as np\n",
    "import pandas as pd\n",
    "import matplotlib.pyplot as plt\n",
    "import os\n",
    "from PIL import Image"
   ]
  },
  {
   "cell_type": "code",
   "execution_count": 6,
   "id": "mineral-given",
   "metadata": {},
   "outputs": [
    {
     "name": "stderr",
     "output_type": "stream",
     "text": [
      "/opt/conda/lib/python3.8/site-packages/pandas/core/indexing.py:1783: SettingWithCopyWarning: \n",
      "A value is trying to be set on a copy of a slice from a DataFrame.\n",
      "Try using .loc[row_indexer,col_indexer] = value instead\n",
      "\n",
      "See the caveats in the documentation: https://pandas.pydata.org/pandas-docs/stable/user_guide/indexing.html#returning-a-view-versus-a-copy\n",
      "  self.obj[item_labels[indexer[info_axis]]] = value\n",
      "/opt/conda/lib/python3.8/site-packages/pandas/core/frame.py:4162: SettingWithCopyWarning: \n",
      "A value is trying to be set on a copy of a slice from a DataFrame\n",
      "\n",
      "See the caveats in the documentation: https://pandas.pydata.org/pandas-docs/stable/user_guide/indexing.html#returning-a-view-versus-a-copy\n",
      "  return super().drop(\n"
     ]
    }
   ],
   "source": [
    "article_tags = pd.read_csv(\"articles_tags.csv\")\n",
    "article_text = pd.read_csv(\"../resources/articles_text.csv\")\n",
    "article_tags= article_tags.set_index(\"Resource URL\")\n",
    "article_text = article_text.set_index(\"Resource URL\")\n",
    "article_text = article_text[~article_text.index.duplicated(keep='first')]\n",
    "\n",
    "for i in article_text.index:\n",
    "    article_text.loc[i, \"tech_tag\"] =  article_tags.loc[i][\"Technical (Y/N)\"][0]\n",
    "    \n",
    "data = (article_text[(article_text[\"tech_tag\"]==\"Y\") | (article_text[\"tech_tag\"]==\"N\")])\n",
    "data_src = data\n",
    "data_src = data_src[[\"Resource Title\", \"text\", \"tech_tag\"]]\n",
    "data_src.loc[:, \"text\"] =  data_src[\"Resource Title\"] + \" \" +data_src[\"text\"]\n",
    "data_src.loc[:, \"tech_tag\"] = data_src[\"tech_tag\"].map({\"N\": 0, \"Y\":1})\n",
    "data_src.drop(\"Resource Title\", axis=1, inplace=True)\n",
    "data_src = data_src.dropna().reset_index(drop=True)\n",
    "data=data_src"
   ]
  },
  {
   "cell_type": "code",
   "execution_count": 2,
   "id": "convenient-newfoundland",
   "metadata": {},
   "outputs": [],
   "source": []
  },
  {
   "cell_type": "code",
   "execution_count": 4,
   "id": "special-chain",
   "metadata": {},
   "outputs": [
    {
     "name": "stderr",
     "output_type": "stream",
     "text": [
      "/opt/conda/lib/python3.8/site-packages/pandas/core/indexing.py:1783: SettingWithCopyWarning: \n",
      "A value is trying to be set on a copy of a slice from a DataFrame.\n",
      "Try using .loc[row_indexer,col_indexer] = value instead\n",
      "\n",
      "See the caveats in the documentation: https://pandas.pydata.org/pandas-docs/stable/user_guide/indexing.html#returning-a-view-versus-a-copy\n",
      "  self.obj[item_labels[indexer[info_axis]]] = value\n",
      "/opt/conda/lib/python3.8/site-packages/pandas/core/frame.py:4162: SettingWithCopyWarning: \n",
      "A value is trying to be set on a copy of a slice from a DataFrame\n",
      "\n",
      "See the caveats in the documentation: https://pandas.pydata.org/pandas-docs/stable/user_guide/indexing.html#returning-a-view-versus-a-copy\n",
      "  return super().drop(\n"
     ]
    }
   ],
   "source": [
    "article_tags = pd.read_csv(\"nn_pred.csv\")\n",
    "article_tags = article_tags.set_index(\"Resource URL\")\n",
    "\n",
    "data = (article_tags[(article_tags[\"NN_Pred\"]==\"Y\") | (article_tags[\"NN_Pred\"]==\"N\")])\n",
    "data_src = data\n",
    "data_src = data_src[[\"Resource Title\", \"text\", \"NN_Pred\"]]\n",
    "data_src.loc[:, \"text\"] =  data_src[\"Resource Title\"] + \" \" +data_src[\"text\"]\n",
    "data_src.loc[:, \"NN_Pred\"] = data_src[\"NN_Pred\"].map({\"N\": 0, \"Y\":1})\n",
    "data_src.drop(\"Resource Title\", axis=1, inplace=True)\n",
    "data_src = data_src.dropna().reset_index(drop=True)\n",
    "data=data_src\n",
    "data[\"tech_tag\"] = data[\"NN_Pred\"]"
   ]
  },
  {
   "cell_type": "code",
   "execution_count": 7,
   "id": "apparent-belgium",
   "metadata": {},
   "outputs": [],
   "source": []
  },
  {
   "cell_type": "code",
   "execution_count": null,
   "id": "mineral-butler",
   "metadata": {},
   "outputs": [],
   "source": []
  },
  {
   "cell_type": "code",
   "execution_count": 8,
   "id": "drawn-duncan",
   "metadata": {},
   "outputs": [],
   "source": [
    "import tensorflow as tf\n",
    "dataset = tf.data.Dataset.from_tensor_slices((data.text, data.tech_tag))\n",
    "VALIDATION_SIZE=250\n",
    "BUFFER_SIZE = 10000\n",
    "BATCH_SIZE = 64\n",
    "\n",
    "train_dataset  = dataset.skip(VALIDATION_SIZE).shuffle(BUFFER_SIZE).batch(BATCH_SIZE).prefetch(tf.data.AUTOTUNE)\n",
    "test_dataset  = dataset.take(VALIDATION_SIZE).batch(BATCH_SIZE).prefetch(tf.data.AUTOTUNE)"
   ]
  },
  {
   "cell_type": "code",
   "execution_count": 8,
   "id": "documentary-pharmacology",
   "metadata": {},
   "outputs": [],
   "source": []
  },
  {
   "cell_type": "code",
   "execution_count": 9,
   "id": "wrapped-supervisor",
   "metadata": {},
   "outputs": [],
   "source": []
  },
  {
   "cell_type": "code",
   "execution_count": 10,
   "id": "divided-lewis",
   "metadata": {},
   "outputs": [],
   "source": []
  },
  {
   "cell_type": "code",
   "execution_count": 9,
   "id": "alone-lover",
   "metadata": {},
   "outputs": [],
   "source": [
    "VOCAB_SIZE = 1000\n",
    "encoder = tf.keras.layers.experimental.preprocessing.TextVectorization(\n",
    "    max_tokens=VOCAB_SIZE)\n",
    "encoder.adapt(train_dataset.map(lambda text, label: text))"
   ]
  },
  {
   "cell_type": "code",
   "execution_count": 10,
   "id": "interracial-intensity",
   "metadata": {},
   "outputs": [
    {
     "data": {
      "text/plain": [
       "array(['', '[UNK]', 'the', 'of', 'and', 'to', 'in', 'a', 'for', 'with',\n",
       "       'that', 'covid19', 'is', 'as', 'on', 'are', 'by', 'were', 'we',\n",
       "       'or'], dtype='<U15')"
      ]
     },
     "execution_count": 10,
     "metadata": {},
     "output_type": "execute_result"
    }
   ],
   "source": [
    "vocab = np.array(encoder.get_vocabulary())\n",
    "vocab[:20]"
   ]
  },
  {
   "cell_type": "code",
   "execution_count": 11,
   "id": "reduced-glossary",
   "metadata": {},
   "outputs": [],
   "source": [
    "model = tf.keras.Sequential([\n",
    "    encoder,\n",
    "    tf.keras.layers.Embedding(\n",
    "        input_dim=len(encoder.get_vocabulary()),\n",
    "        output_dim=64,\n",
    "        # Use masking to handle the variable sequence lengths\n",
    "        mask_zero=True),\n",
    "    tf.keras.layers.Bidirectional(tf.keras.layers.LSTM(64)),\n",
    "    tf.keras.layers.Dense(64, activation='relu'),\n",
    "    tf.keras.layers.Dense(2)\n",
    "])"
   ]
  },
  {
   "cell_type": "code",
   "execution_count": 13,
   "id": "formed-pontiac",
   "metadata": {},
   "outputs": [],
   "source": [
    "model.compile(\n",
    "    optimizer='adam',\n",
    "    loss=tf.keras.losses.SparseCategoricalCrossentropy(from_logits=True),\n",
    "    metrics=['accuracy'])"
   ]
  },
  {
   "cell_type": "code",
   "execution_count": 14,
   "id": "ordered-weight",
   "metadata": {},
   "outputs": [
    {
     "name": "stdout",
     "output_type": "stream",
     "text": [
      "Epoch 1/10\n",
      "12/12 [==============================] - ETA: 0s - loss: 0.6843 - accuracy: 0.6560WARNING:tensorflow:Your input ran out of data; interrupting training. Make sure that your dataset or generator can generate at least `steps_per_epoch * epochs` batches (in this case, 5 batches). You may need to use the repeat() function when building your dataset.\n",
      "12/12 [==============================] - 18s 674ms/step - loss: 0.6843 - accuracy: 0.6560 - val_loss: 0.6778 - val_accuracy: 0.7520\n",
      "Epoch 2/10\n",
      "12/12 [==============================] - 5s 348ms/step - loss: 0.5774 - accuracy: 0.8467\n",
      "Epoch 3/10\n",
      "12/12 [==============================] - 5s 426ms/step - loss: 0.4398 - accuracy: 0.7587\n",
      "Epoch 4/10\n",
      "12/12 [==============================] - 5s 439ms/step - loss: 0.2607 - accuracy: 0.9040\n",
      "Epoch 5/10\n",
      "12/12 [==============================] - 5s 458ms/step - loss: 0.2796 - accuracy: 0.8960\n",
      "Epoch 6/10\n",
      "12/12 [==============================] - 5s 457ms/step - loss: 0.1855 - accuracy: 0.9427\n",
      "Epoch 7/10\n",
      "12/12 [==============================] - 5s 466ms/step - loss: 0.2176 - accuracy: 0.9120\n",
      "Epoch 8/10\n",
      "12/12 [==============================] - 6s 470ms/step - loss: 0.1592 - accuracy: 0.9440\n",
      "Epoch 9/10\n",
      "12/12 [==============================] - 5s 425ms/step - loss: 0.1020 - accuracy: 0.9720\n",
      "Epoch 10/10\n",
      "12/12 [==============================] - 5s 432ms/step - loss: 0.0664 - accuracy: 0.9800\n"
     ]
    }
   ],
   "source": [
    "history = model.fit(train_dataset, epochs=10,\n",
    "                    validation_data=test_dataset,\n",
    "                    validation_steps=5)"
   ]
  },
  {
   "cell_type": "code",
   "execution_count": 16,
   "id": "small-discussion",
   "metadata": {},
   "outputs": [
    {
     "name": "stdout",
     "output_type": "stream",
     "text": [
      "4/4 [==============================] - 1s 161ms/step - loss: 0.3891 - accuracy: 0.8640\n",
      "Test Loss: 0.38905078172683716\n",
      "Test Accuracy: 0.8640000224113464\n"
     ]
    }
   ],
   "source": [
    "test_loss, test_acc = model.evaluate(test_dataset)\n",
    "\n",
    "print('Test Loss:', test_loss)\n",
    "print('Test Accuracy:', test_acc)"
   ]
  },
  {
   "cell_type": "code",
   "execution_count": null,
   "id": "alive-engagement",
   "metadata": {},
   "outputs": [],
   "source": []
  }
 ],
 "metadata": {
  "kernelspec": {
   "display_name": "Python 3",
   "language": "python",
   "name": "python3"
  },
  "language_info": {
   "codemirror_mode": {
    "name": "ipython",
    "version": 3
   },
   "file_extension": ".py",
   "mimetype": "text/x-python",
   "name": "python",
   "nbconvert_exporter": "python",
   "pygments_lexer": "ipython3",
   "version": "3.8.5"
  }
 },
 "nbformat": 4,
 "nbformat_minor": 5
}
