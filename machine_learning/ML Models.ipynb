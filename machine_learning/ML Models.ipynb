{
 "cells": [
  {
   "cell_type": "code",
   "execution_count": 1,
   "id": "broadband-pantyhose",
   "metadata": {},
   "outputs": [],
   "source": [
    "import numpy as np\n",
    "import pandas as pd\n",
    "import matplotlib.pyplot as plt\n",
    "import os\n",
    "from PIL import Image"
   ]
  },
  {
   "cell_type": "code",
   "execution_count": 2,
   "id": "handled-combat",
   "metadata": {},
   "outputs": [],
   "source": [
    "article_tags = pd.read_csv(\"articles_tags.csv\")\n",
    "article_text = pd.read_csv(\"../resources/articles_text.csv\")\n",
    "article_tags= article_tags.set_index(\"Resource URL\")\n",
    "article_text = article_text.set_index(\"Resource URL\")\n",
    "article_text = article_text[~article_text.index.duplicated(keep='first')]"
   ]
  },
  {
   "cell_type": "code",
   "execution_count": 3,
   "id": "comprehensive-update",
   "metadata": {},
   "outputs": [],
   "source": [
    "for i in article_text.index:\n",
    "    article_text.loc[i, \"tech_tag\"] =  article_tags.loc[i][\"Technical (Y/N)\"][0]"
   ]
  },
  {
   "cell_type": "code",
   "execution_count": 4,
   "id": "demanding-musical",
   "metadata": {},
   "outputs": [
    {
     "name": "stderr",
     "output_type": "stream",
     "text": [
      "/opt/conda/lib/python3.8/site-packages/pandas/core/indexing.py:1783: SettingWithCopyWarning: \n",
      "A value is trying to be set on a copy of a slice from a DataFrame.\n",
      "Try using .loc[row_indexer,col_indexer] = value instead\n",
      "\n",
      "See the caveats in the documentation: https://pandas.pydata.org/pandas-docs/stable/user_guide/indexing.html#returning-a-view-versus-a-copy\n",
      "  self.obj[item_labels[indexer[info_axis]]] = value\n",
      "/opt/conda/lib/python3.8/site-packages/pandas/core/frame.py:4162: SettingWithCopyWarning: \n",
      "A value is trying to be set on a copy of a slice from a DataFrame\n",
      "\n",
      "See the caveats in the documentation: https://pandas.pydata.org/pandas-docs/stable/user_guide/indexing.html#returning-a-view-versus-a-copy\n",
      "  return super().drop(\n"
     ]
    }
   ],
   "source": [
    "data = (article_text[(article_text[\"tech_tag\"]==\"Y\") | (article_text[\"tech_tag\"]==\"N\")])\n",
    "data_src = data\n",
    "data_src = data_src[[\"Resource Title\", \"text\", \"tech_tag\"]]\n",
    "data_src.loc[:, \"text\"] =  data_src[\"Resource Title\"] + \" \" +data_src[\"text\"]\n",
    "data_src.loc[:, \"tech_tag\"] = data_src[\"tech_tag\"].map({\"N\": 0, \"Y\":1})\n",
    "data_src.drop(\"Resource Title\", axis=1, inplace=True)\n",
    "data_src = data_src.dropna().reset_index(drop=True)\n",
    "data=data_src"
   ]
  },
  {
   "cell_type": "code",
   "execution_count": 5,
   "id": "furnished-burton",
   "metadata": {},
   "outputs": [],
   "source": [
    "from sklearn.model_selection import train_test_split\n",
    "x_train, x_test, y_train, y_test = train_test_split(data['text'], data['tech_tag'], test_size = 0.5, random_state = 0)"
   ]
  },
  {
   "cell_type": "code",
   "execution_count": 6,
   "id": "sharp-liberty",
   "metadata": {},
   "outputs": [
    {
     "name": "stdout",
     "output_type": "stream",
     "text": [
      "rows in test set: (500,)\n",
      "rows in train set: (500,)\n"
     ]
    }
   ],
   "source": [
    "print('rows in test set: ' + str(x_test.shape))\n",
    "print('rows in train set: ' + str(x_train.shape))"
   ]
  },
  {
   "cell_type": "code",
   "execution_count": 7,
   "id": "european-affect",
   "metadata": {},
   "outputs": [],
   "source": [
    "from sklearn.feature_extraction.text import TfidfVectorizer,CountVectorizer"
   ]
  },
  {
   "cell_type": "code",
   "execution_count": 8,
   "id": "latest-egyptian",
   "metadata": {},
   "outputs": [],
   "source": [
    "lst = x_train.tolist()\n",
    "vectorizer = TfidfVectorizer(\n",
    "    input= lst ,  # input is the actual text\n",
    "    lowercase=True,      # convert to lowercase before tokenizing\n",
    "    stop_words='english' # remove stop words\n",
    ")\n",
    "features_train_transformed = vectorizer.fit_transform(x_train) #gives tf idf vector for x_train\n",
    "features_test_transformed  = vectorizer.transform(x_test) #gives tf idf vector for x_test"
   ]
  },
  {
   "cell_type": "code",
   "execution_count": 10,
   "id": "prostate-evanescence",
   "metadata": {},
   "outputs": [],
   "source": [
    "from sklearn.model_selection import train_test_split\n",
    "from sklearn.preprocessing import StandardScaler\n",
    "from sklearn.datasets import make_moons, make_circles, make_classification\n",
    "from sklearn.neural_network import MLPClassifier\n",
    "from sklearn.neighbors import KNeighborsClassifier\n",
    "from sklearn.svm import SVC\n",
    "from sklearn.gaussian_process import GaussianProcessClassifier\n",
    "from sklearn.gaussian_process.kernels import RBF\n",
    "from sklearn.tree import DecisionTreeClassifier\n",
    "from sklearn.ensemble import RandomForestClassifier, AdaBoostClassifier\n",
    "from sklearn.naive_bayes import GaussianNB\n",
    "from sklearn.discriminant_analysis import QuadraticDiscriminantAnalysis"
   ]
  },
  {
   "cell_type": "code",
   "execution_count": 89,
   "id": "indian-arctic",
   "metadata": {},
   "outputs": [
    {
     "name": "stdout",
     "output_type": "stream",
     "text": [
      "Nearest Neighbors accuracy 89.60%\n",
      "Linear SVM accuracy 49.40%\n",
      "RBF SVM accuracy 90.20%\n",
      "Decision Tree accuracy 80.60%\n",
      "Random Forest accuracy 56.80%\n",
      "Neural Net accuracy 91.40%\n",
      "AdaBoost accuracy 89.80%\n"
     ]
    }
   ],
   "source": [
    "classifiers = [\n",
    "    KNeighborsClassifier(3),\n",
    "    SVC(kernel=\"linear\", C=0.025),\n",
    "    SVC(gamma=2, C=1),\n",
    "    GaussianProcessClassifier(1.0 * RBF(1.0)),\n",
    "    DecisionTreeClassifier(max_depth=5),\n",
    "    RandomForestClassifier(max_depth=5, n_estimators=10, max_features=1),\n",
    "    MLPClassifier(alpha=1, max_iter=1000),\n",
    "    AdaBoostClassifier(),\n",
    "    GaussianNB(),\n",
    "    QuadraticDiscriminantAnalysis()]\n",
    "\n",
    "names = [\"Nearest Neighbors\", \"Linear SVM\", \"RBF SVM\", \"Gaussian Process\",\n",
    "         \"Decision Tree\", \"Random Forest\", \"Neural Net\", \"AdaBoost\",\n",
    "         \"Naive Bayes\", \"QDA\"]\n",
    "\n",
    "\n",
    "for name, classifier in zip(names, classifiers):\n",
    "    try:\n",
    "        classifier.fit(features_train_transformed, y_train)\n",
    "        print(name+\" accuracy {:.2f}%\".format(classifier.score(features_test_transformed, y_test) * 100))\n",
    "    except:\n",
    "        continue\n",
    "    "
   ]
  },
  {
   "cell_type": "code",
   "execution_count": 36,
   "id": "funny-consultancy",
   "metadata": {},
   "outputs": [
    {
     "name": "stdout",
     "output_type": "stream",
     "text": [
      "Neural Net accuracy 91.40%\n"
     ]
    }
   ],
   "source": [
    "classifiers = [\n",
    "\n",
    "    MLPClassifier(alpha=1, hidden_layer_sizes=20, max_iter=1000),\n",
    "]\n",
    "\n",
    "names = [ \"Neural Net\"]\n",
    "\n",
    "\n",
    "for name, classifier in zip(names, classifiers):\n",
    "    try:\n",
    "        classifier.fit(features_train_transformed, y_train)\n",
    "        print(name+\" accuracy {:.2f}%\".format(classifier.score(features_test_transformed, y_test) * 100))\n",
    "    except:\n",
    "        continue\n",
    "    "
   ]
  },
  {
   "cell_type": "code",
   "execution_count": 46,
   "id": "cubic-lawsuit",
   "metadata": {},
   "outputs": [
    {
     "ename": "AttributeError",
     "evalue": "'dict' object has no attribute 'invert'",
     "output_type": "error",
     "traceback": [
      "\u001b[0;31m---------------------------------------------------------------------------\u001b[0m",
      "\u001b[0;31mAttributeError\u001b[0m                            Traceback (most recent call last)",
      "\u001b[0;32m<ipython-input-46-717f52943c70>\u001b[0m in \u001b[0;36m<module>\u001b[0;34m\u001b[0m\n\u001b[0;32m----> 1\u001b[0;31m \u001b[0mhash_map\u001b[0m\u001b[0;34m.\u001b[0m\u001b[0minvert\u001b[0m\u001b[0;34m(\u001b[0m\u001b[0;34m)\u001b[0m\u001b[0;34m\u001b[0m\u001b[0;34m\u001b[0m\u001b[0m\n\u001b[0m",
      "\u001b[0;31mAttributeError\u001b[0m: 'dict' object has no attribute 'invert'"
     ]
    }
   ],
   "source": [
    "hash_map.invert()"
   ]
  },
  {
   "cell_type": "code",
   "execution_count": 47,
   "id": "earlier-crown",
   "metadata": {},
   "outputs": [
    {
     "name": "stdout",
     "output_type": "stream",
     "text": [
      "https://jamanetwork.com/journals/jama/pages/coronavirus-alert Predicted:  0  Actual:  1\n",
      "https://jamanetwork.com/collections/5950/vaccination Predicted:  0  Actual:  1\n",
      "https://jamanetwork.com/journals/jama/fullarticle/2779817 Predicted:  0  Actual:  1\n",
      "https://jamanetwork.com/journals/jamaneurology/fullarticle/2779916 Predicted:  0  Actual:  1\n",
      "https://www.nejm.org/pulmonary?topic=12&q=*&page=5 Predicted:  0  Actual:  1\n",
      "https://www.nature.com/articles/d41586-021-01251-0 Predicted:  1  Actual:  0\n",
      "https://www.nature.com/articles/d41586-021-01277-4 Predicted:  0  Actual:  1\n",
      "https://www.nature.com/articles/s41574-021-00509-x Predicted:  1  Actual:  0\n",
      "https://www.nature.com/articles/s41556-021-00685-y Predicted:  1  Actual:  0\n",
      "https://jamanetwork.com/journals/jamanetworkopen/fullarticle/2779869 Predicted:  0  Actual:  1\n",
      "https://www.nejm.org/doi/full/10.1056/NEJMc2106004 Predicted:  1  Actual:  0\n",
      "https://www.nejm.org/coronavirus Predicted:  1  Actual:  0\n",
      "https://www.nature.com/articles/s41467-021-23559-1 Predicted:  1  Actual:  0\n",
      "https://www.cdc.gov/nchs/nvss/vsrr/covid19/index.htm Predicted:  1  Actual:  0\n",
      "https://www.nature.com/articles/s41591-021-01381-y?error=cookies_not_supported&code=b39f3f57-1bc8-42f6-aa76-0030c395aa5c Predicted:  0  Actual:  1\n",
      "https://www.nejm.org/doi/full/10.1056/NEJMc2106075 Predicted:  0  Actual:  1\n",
      "https://www.nature.com/articles/s41591-021-01363-0?utm_source=feedburner&utm_medium=feed&utm_campaign=Feed%3A+nm%2Frss%2Fcurrent+%28Nature+Medicine+-+Issue%29 Predicted:  0  Actual:  1\n",
      "https://jamanetwork.com/journals/jamaoncology/fullarticle/2780053 Predicted:  0  Actual:  1\n",
      "https://www.nature.com/articles/s41390-021-01590-8 Predicted:  1  Actual:  0\n",
      "https://www.nature.com/articles/s41433-021-01582-2 Predicted:  1  Actual:  0\n",
      "https://www.nature.com/articles/s41598-021-91156-9 Predicted:  0  Actual:  1\n",
      "https://www.nature.com/articles/s41598-021-91470-2 Predicted:  0  Actual:  1\n",
      "https://www.jnj.com/our-company/simplifying-the-science-of-covid-19-how-adenovector-vaccines-work Predicted:  1  Actual:  0\n",
      "https://www.nature.com/articles/d41586-021-01557-z?error=cookies_not_supported&code=9d49533c-3fe9-4d19-827e-826936408896 Predicted:  1  Actual:  0\n",
      "https://www.nature.com/articles/s43587-021-00078-8 Predicted:  1  Actual:  0\n",
      "https://www.nejm.org/doi/full/10.1056/NEJMe2107070 Predicted:  1  Actual:  0\n",
      "https://www.nature.com/articles/s41467-021-23937-9 Predicted:  0  Actual:  1\n",
      "https://www.bmj.com/content/373/bmj.n1416.abstract Predicted:  0  Actual:  1\n",
      "https://www.bmj.com/content/373/bmj.n1416/related Predicted:  0  Actual:  1\n",
      "https://www.bmj.com/content/373/bmj.n1105 Predicted:  0  Actual:  1\n",
      "https://www.bmj.com/content/373/bmj.n1577/rr Predicted:  1  Actual:  0\n",
      "https://www.nature.com/articles/s41569-021-00591-8 Predicted:  0  Actual:  1\n",
      "https://www.nejm.org/doi/full/10.1056/NEJMclde2101987 Predicted:  0  Actual:  1\n",
      "https://www.nejm.org/doi/full/10.1056/NEJMe2034982 Predicted:  1  Actual:  0\n",
      "https://www.nejm.org/doi/full/10.1056/NEJMe2035678 Predicted:  1  Actual:  0\n",
      "https://yourlocalepidemiologist.substack.com/p/covid19-drugs Predicted:  1  Actual:  0\n",
      "https://www.bmj.com/content/373/bmj.n1442/rr Predicted:  1  Actual:  0\n",
      "https://www.bmj.com/content/372/bmj.n829 Predicted:  1  Actual:  0\n",
      "https://www.pfizer.com/science/coronavirus/vaccine/rapid-progress Predicted:  0  Actual:  1\n",
      "https://www.pfizer.com/science/coronavirus/partnerships Predicted:  0  Actual:  1\n",
      "https://www.pfizer.com/science/coronavirus/updates Predicted:  0  Actual:  1\n",
      "https://www.pfizer.com/news/hot-topics/covid_19_vaccine_u_s_distribution_fact_sheet Predicted:  1  Actual:  0\n",
      "https://www.pfizer.com/science/coronavirus/manufacturing-and-distribution/pledge Predicted:  0  Actual:  1\n",
      "https://www.pfizer.com/news/hot-topics/keeping_up_with_covid_19_insights_and_perspectives_from_mace_rothenberg_m_d Predicted:  1  Actual:  0\n",
      "https://www.nature.com/articles/s41577-021-00579-y Predicted:  1  Actual:  0\n",
      "https://www.nature.com/nm/?link_id=N_Nature_1995-present_nature.com Predicted:  0  Actual:  1\n",
      "https://www.pfizer.com/science/coronavirus Predicted:  0  Actual:  1\n",
      "https://www.nature.com/naturecareers/job/laboratory-manager-product-lead-dna-pipelines-covid19-surveillance-wellcome-trust-sanger-institute-742487 Predicted:  0  Actual:  1\n",
      "https://www.nejm.org/do/10.1056/NEJMdo005991/full/ Predicted:  1  Actual:  0\n",
      "https://www.bmj.com/content/373/bmj.n1178/rr-0 Predicted:  1  Actual:  0\n",
      "https://www.bmj.com/content/372/bmj.n376 Predicted:  0  Actual:  1\n"
     ]
    }
   ],
   "source": [
    "hash_map = {'Y': 1, 'N': 0}\n",
    "article_text[\"NN_Pred\"]=\"\"\n",
    "for i in article_text.index:\n",
    "    if article_text.loc[i].tech_tag not in hash_map.keys():\n",
    "        continue\n",
    "    target = hash_map[article_text.loc[i].tech_tag]\n",
    "    text = article_text.loc[i].text\n",
    "    if type(text) != type(' '):\n",
    "        continue\n",
    "    text = vectorizer.transform([text])\n",
    "    pred = classifier.predict(text)[0]\n",
    "    article_text.loc[i,\"NN_Pred\"]=\"Y\" if pred else \"N\"\n",
    "    if pred!=target:\n",
    "        print(i, \"Predicted: \",pred, \" Actual: \", target)\n",
    "    "
   ]
  },
  {
   "cell_type": "code",
   "execution_count": 49,
   "id": "seven-algorithm",
   "metadata": {},
   "outputs": [],
   "source": [
    "article_text.to_csv(\"nn_pred.csv\")"
   ]
  },
  {
   "cell_type": "code",
   "execution_count": 17,
   "id": "successful-surface",
   "metadata": {},
   "outputs": [],
   "source": [
    "    text = vectorizer.transform([article_text.loc[i].text])"
   ]
  },
  {
   "cell_type": "code",
   "execution_count": 21,
   "id": "choice-matthew",
   "metadata": {},
   "outputs": [],
   "source": []
  },
  {
   "cell_type": "code",
   "execution_count": 23,
   "id": "consolidated-township",
   "metadata": {},
   "outputs": [
    {
     "data": {
      "text/plain": [
       "0"
      ]
     },
     "execution_count": 23,
     "metadata": {},
     "output_type": "execute_result"
    }
   ],
   "source": [
    "result[0]"
   ]
  },
  {
   "cell_type": "code",
   "execution_count": 57,
   "id": "temporal-kinase",
   "metadata": {},
   "outputs": [
    {
     "name": "stdout",
     "output_type": "stream",
     "text": [
      "classifier accuracy 91.00%\n"
     ]
    }
   ],
   "source": []
  }
 ],
 "metadata": {
  "kernelspec": {
   "display_name": "Python 3",
   "language": "python",
   "name": "python3"
  },
  "language_info": {
   "codemirror_mode": {
    "name": "ipython",
    "version": 3
   },
   "file_extension": ".py",
   "mimetype": "text/x-python",
   "name": "python",
   "nbconvert_exporter": "python",
   "pygments_lexer": "ipython3",
   "version": "3.8.5"
  }
 },
 "nbformat": 4,
 "nbformat_minor": 5
}
